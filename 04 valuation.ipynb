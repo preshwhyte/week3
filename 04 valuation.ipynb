{
 "cells": [
  {
   "cell_type": "markdown",
   "id": "fd7bdefe",
   "metadata": {},
   "source": [
    "## Import Modules"
   ]
  },
  {
   "cell_type": "code",
   "execution_count": 1,
   "id": "bcf465af",
   "metadata": {},
   "outputs": [],
   "source": [
    "from sklearn.datasets import load_boston\n",
    "from sklearn.linear_model import LinearRegression\n",
    "from sklearn.metrics import mean_squared_error\n",
    "\n",
    "import pandas as pd\n",
    "import numpy as np"
   ]
  },
  {
   "cell_type": "code",
   "execution_count": 21,
   "id": "be72f9ef",
   "metadata": {},
   "outputs": [
    {
     "name": "stderr",
     "output_type": "stream",
     "text": [
      "C:\\Users\\HP USER\\anaconda3\\lib\\site-packages\\sklearn\\utils\\deprecation.py:87: FutureWarning: Function load_boston is deprecated; `load_boston` is deprecated in 1.0 and will be removed in 1.2.\n",
      "\n",
      "    The Boston housing prices dataset has an ethical problem. You can refer to\n",
      "    the documentation of this function for further details.\n",
      "\n",
      "    The scikit-learn maintainers therefore strongly discourage the use of this\n",
      "    dataset unless the purpose of the code is to study and educate about\n",
      "    ethical issues in data science and machine learning.\n",
      "\n",
      "    In this special case, you can fetch the dataset from the original\n",
      "    source::\n",
      "\n",
      "        import pandas as pd\n",
      "        import numpy as np\n",
      "\n",
      "\n",
      "        data_url = \"http://lib.stat.cmu.edu/datasets/boston\"\n",
      "        raw_df = pd.read_csv(data_url, sep=\"\\s+\", skiprows=22, header=None)\n",
      "        data = np.hstack([raw_df.values[::2, :], raw_df.values[1::2, :2]])\n",
      "        target = raw_df.values[1::2, 2]\n",
      "\n",
      "    Alternative datasets include the California housing dataset (i.e.\n",
      "    :func:`~sklearn.datasets.fetch_california_housing`) and the Ames housing\n",
      "    dataset. You can load the datasets as follows::\n",
      "\n",
      "        from sklearn.datasets import fetch_california_housing\n",
      "        housing = fetch_california_housing()\n",
      "\n",
      "    for the California housing dataset and::\n",
      "\n",
      "        from sklearn.datasets import fetch_openml\n",
      "        housing = fetch_openml(name=\"house_prices\", as_frame=True)\n",
      "\n",
      "    for the Ames housing dataset.\n",
      "    \n",
      "  warnings.warn(msg, category=FutureWarning)\n"
     ]
    }
   ],
   "source": [
    "#Gather Data\n",
    "boston_dataset= load_boston()\n",
    "data=pd.DataFrame(data=boston_dataset.data, columns=boston_dataset.feature_names)\n",
    "features=data.drop(['INDUS', 'AGE'], axis=1)\n",
    "\n",
    "log_prices=np.log(boston_dataset.target)\n",
    "target=pd.DataFrame(log_prices, columns=['PRICE'])\n"
   ]
  },
  {
   "cell_type": "code",
   "execution_count": 58,
   "id": "ee1a8e55",
   "metadata": {},
   "outputs": [
    {
     "data": {
      "text/plain": [
       "array([[3.61352356e+00, 1.13636364e+01, 6.91699605e-02, 5.54695059e-01,\n",
       "        6.28463439e+00, 3.79504269e+00, 9.54940711e+00, 4.08237154e+02,\n",
       "        1.84555336e+01, 3.56674032e+02, 1.26530632e+01]])"
      ]
     },
     "execution_count": 58,
     "metadata": {},
     "output_type": "execute_result"
    }
   ],
   "source": [
    "CRIME_IDX=0\n",
    "ZN_IDX=1\n",
    "CHAS_IDX=2\n",
    "RM_IDX=4\n",
    "PTRATIO_IDX=8\n",
    "\n",
    "# property_stats=np.ndarray(shape=(1,11))\n",
    "# property_stats[0][CRIME_IDX]=features['CRIM'].mean()\n",
    "# property_stats[0][ZN_IDX]=features['ZN'].mean()\n",
    "# property_stats[0][CHAS_IDX]=features['CHAS'].mean()\n",
    "\n",
    "\n",
    "property_stats =features.mean().values.reshape(1,11)\n",
    "property_stats"
   ]
  },
  {
   "cell_type": "code",
   "execution_count": 37,
   "id": "810585fa",
   "metadata": {},
   "outputs": [
    {
     "data": {
      "text/plain": [
       "CRIM         3.613524\n",
       "ZN          11.363636\n",
       "CHAS         0.069170\n",
       "NOX          0.554695\n",
       "RM           6.284634\n",
       "DIS          3.795043\n",
       "RAD          9.549407\n",
       "TAX        408.237154\n",
       "PTRATIO     18.455534\n",
       "B          356.674032\n",
       "LSTAT       12.653063\n",
       "dtype: float64"
      ]
     },
     "execution_count": 37,
     "metadata": {},
     "output_type": "execute_result"
    }
   ],
   "source": [
    "features.mean()\n",
    "\n",
    "\n",
    "\n"
   ]
  },
  {
   "cell_type": "code",
   "execution_count": 38,
   "id": "80fa6bb4",
   "metadata": {},
   "outputs": [
    {
     "data": {
      "text/plain": [
       "pandas.core.series.Series"
      ]
     },
     "execution_count": 38,
     "metadata": {},
     "output_type": "execute_result"
    }
   ],
   "source": [
    "type(features.mean())\n",
    "\n"
   ]
  },
  {
   "cell_type": "code",
   "execution_count": 39,
   "id": "5def18cc",
   "metadata": {},
   "outputs": [
    {
     "data": {
      "text/plain": [
       "(11,)"
      ]
     },
     "execution_count": 39,
     "metadata": {},
     "output_type": "execute_result"
    }
   ],
   "source": [
    "features.mean().shape"
   ]
  },
  {
   "cell_type": "code",
   "execution_count": 40,
   "id": "dc5fdc8c",
   "metadata": {},
   "outputs": [
    {
     "data": {
      "text/plain": [
       "array([3.61352356e+00, 1.13636364e+01, 6.91699605e-02, 5.54695059e-01,\n",
       "       6.28463439e+00, 3.79504269e+00, 9.54940711e+00, 4.08237154e+02,\n",
       "       1.84555336e+01, 3.56674032e+02, 1.26530632e+01])"
      ]
     },
     "execution_count": 40,
     "metadata": {},
     "output_type": "execute_result"
    }
   ],
   "source": [
    "features.mean().values"
   ]
  },
  {
   "cell_type": "code",
   "execution_count": 41,
   "id": "bc1b5286",
   "metadata": {},
   "outputs": [
    {
     "data": {
      "text/plain": [
       "(11,)"
      ]
     },
     "execution_count": 41,
     "metadata": {},
     "output_type": "execute_result"
    }
   ],
   "source": [
    "features.mean().values.shape"
   ]
  },
  {
   "cell_type": "code",
   "execution_count": 42,
   "id": "44648348",
   "metadata": {},
   "outputs": [
    {
     "data": {
      "text/plain": [
       "array([[3.61352356e+00, 1.13636364e+01, 6.91699605e-02, 5.54695059e-01,\n",
       "        6.28463439e+00, 3.79504269e+00, 9.54940711e+00, 4.08237154e+02,\n",
       "        1.84555336e+01, 3.56674032e+02, 1.26530632e+01]])"
      ]
     },
     "execution_count": 42,
     "metadata": {},
     "output_type": "execute_result"
    }
   ],
   "source": [
    "features.mean().values.reshape(1,11)"
   ]
  },
  {
   "cell_type": "code",
   "execution_count": 51,
   "id": "271b2224",
   "metadata": {},
   "outputs": [
    {
     "data": {
      "text/plain": [
       "0.18751213519713034"
      ]
     },
     "execution_count": 51,
     "metadata": {},
     "output_type": "execute_result"
    }
   ],
   "source": [
    "regr=LinearRegression().fit(features, target)\n",
    "fitted_val=regr.predict(features)\n",
    "\n",
    "#calculate the MSE and RMSE using sklearn\n",
    "MSE= mean_squared_error(target, fitted_val)\n",
    "RMSE=np.sqrt(MSE)\n",
    "RMSE"
   ]
  },
  {
   "cell_type": "code",
   "execution_count": 64,
   "id": "56349330",
   "metadata": {},
   "outputs": [],
   "source": [
    "def get_log_estimate(nr_rooms, students_per_classroom, next_to_river=False, high_confidence=True):\n",
    "    #configure propertY\n",
    "    property_stats[0][RM_IDX]=nr_rooms\n",
    "    property_stats[0][PTRATIO_IDX]=students_per_classroom\n",
    "    \n",
    "    if next_to_river:\n",
    "        property_stats[0][CHAS_IDX]=1\n",
    "    else:\n",
    "        property_stats[0][CHAS_IDX]=0\n",
    "        \n",
    "    \n",
    "    #make prediction\n",
    "    log_estimate=regr.predict(property_stats)[0][0]\n",
    "    \n",
    "    if high_confidence:\n",
    "        upper_bound=log_estimate + 2*RMSE\n",
    "        lower_bound=log_estimate - 2*RMSE\n",
    "        interval=95\n",
    "        \n",
    "    else:\n",
    "        upper_bound=log_estimate + RMSE\n",
    "        lower_bound=log_estimate - RMSE\n",
    "        interval=68\n",
    "    \n",
    "    return log_estimate, upper_bound, lower_bound, interval"
   ]
  },
  {
   "cell_type": "code",
   "execution_count": 68,
   "id": "6c14e9d4",
   "metadata": {},
   "outputs": [
    {
     "name": "stderr",
     "output_type": "stream",
     "text": [
      "C:\\Users\\HP USER\\anaconda3\\lib\\site-packages\\sklearn\\base.py:450: UserWarning: X does not have valid feature names, but LinearRegression was fitted with feature names\n",
      "  warnings.warn(\n"
     ]
    },
    {
     "data": {
      "text/plain": [
       "(2.7767581914803996, 3.15178246187466, 2.401733921086139, 95)"
      ]
     },
     "execution_count": 68,
     "metadata": {},
     "output_type": "execute_result"
    }
   ],
   "source": [
    "get_log_estimate(3, 20, next_to_river=True ) #, high_confidence=False--if you what a narrow instead of a wide range"
   ]
  },
  {
   "cell_type": "code",
   "execution_count": 69,
   "id": "45eee4ee",
   "metadata": {},
   "outputs": [
    {
     "data": {
      "text/plain": [
       "21.2"
      ]
     },
     "execution_count": 69,
     "metadata": {},
     "output_type": "execute_result"
    }
   ],
   "source": [
    "np.median(boston_dataset.target)"
   ]
  },
  {
   "cell_type": "code",
   "execution_count": 72,
   "id": "dd8e8df1",
   "metadata": {},
   "outputs": [
    {
     "name": "stdout",
     "output_type": "stream",
     "text": [
      "The estimated property value is 827000.0.\n",
      "At 68% confidencee the valuation range is \n",
      "685000.0 at the lower end to USD 997000.0 at the high end\n"
     ]
    },
    {
     "name": "stderr",
     "output_type": "stream",
     "text": [
      "C:\\Users\\HP USER\\anaconda3\\lib\\site-packages\\sklearn\\base.py:450: UserWarning: X does not have valid feature names, but LinearRegression was fitted with feature names\n",
      "  warnings.warn(\n"
     ]
    }
   ],
   "source": [
    "current_median_price=583.3 #Zillion estimate\n",
    "SCALE_FACTOR= current_median_price/ np.median(boston_dataset.target)\n",
    "SCALE_FACTOR\n",
    "\n",
    "log_est, upper, lower, conf=get_log_estimate(9, students_per_classroom=15, next_to_river=False, high_confidence=False)\n",
    "\n",
    "#convert to todays dollars\n",
    "dollar_est=np.e**log_est * 1000 *SCALE_FACTOR\n",
    "dollar_hi=np.e**upper * 1000 *SCALE_FACTOR\n",
    "dollar_low=np.e**lower * 1000 *SCALE_FACTOR\n",
    "\n",
    "#Round the dollar values to nearest thousand\n",
    "rounded_est= np.around(dollar_est, -3)\n",
    "rounded_hi= np.around(dollar_hi, -3)\n",
    "rounded_low= np.around(dollar_low, -3)\n",
    "\n",
    "print(f'The estimated property value is {rounded_est}.')\n",
    "print(f'At {conf}% confidencee the valuation range is ')\n",
    "print(f'{rounded_low} at the lower end to USD {rounded_hi} at the high end')\n",
    "\n"
   ]
  },
  {
   "cell_type": "code",
   "execution_count": 82,
   "id": "67ec2c26",
   "metadata": {},
   "outputs": [],
   "source": [
    "def get_dollar_estimate(rm, ptratio, chas=False, large_range=True):\n",
    "    \n",
    "    \"\"\"teh offic\n",
    "    \"\"\"\n",
    "    \n",
    "    if rm < 1 or ptratio <1:\n",
    "        print('that is unrealistic: try again')\n",
    "        return\n",
    "\n",
    "    log_est, upper, lower, conf=get_log_estimate(rm, ptratio, next_to_river=chas, high_confidence=large_range)\n",
    "\n",
    "    #convert to todays dollars\n",
    "    dollar_est=np.e**log_est * 1000 *SCALE_FACTOR\n",
    "    dollar_hi=np.e**upper * 1000 *SCALE_FACTOR\n",
    "    dollar_low=np.e**lower * 1000 *SCALE_FACTOR\n",
    "\n",
    "    #Round the dollar values to nearest thousand\n",
    "    rounded_est= np.around(dollar_est, -3)\n",
    "    rounded_hi= np.around(dollar_hi, -3)\n",
    "    rounded_low= np.around(dollar_low, -3)\n",
    "\n",
    "    print(f'The estimated property value is {rounded_est}.')\n",
    "    print(f'At {conf}% confidencee the valuation range is ')\n",
    "    print(f'{rounded_low} at the lower end to USD {rounded_hi} at the high end')"
   ]
  },
  {
   "cell_type": "code",
   "execution_count": 81,
   "id": "9eb65206",
   "metadata": {},
   "outputs": [
    {
     "name": "stdout",
     "output_type": "stream",
     "text": [
      "The estimated property value is 278000.0.\n",
      "At 95% confidencee the valuation range is \n",
      "191000.0 at the lower end to USD 404000.0 at the high end\n"
     ]
    },
    {
     "name": "stderr",
     "output_type": "stream",
     "text": [
      "C:\\Users\\HP USER\\anaconda3\\lib\\site-packages\\sklearn\\base.py:450: UserWarning: X does not have valid feature names, but LinearRegression was fitted with feature names\n",
      "  warnings.warn(\n"
     ]
    }
   ],
   "source": [
    "get_dollar_estimate(rm=2, ptratio=30, chas=True)"
   ]
  },
  {
   "cell_type": "code",
   "execution_count": null,
   "id": "3ae32f93",
   "metadata": {},
   "outputs": [],
   "source": []
  }
 ],
 "metadata": {
  "kernelspec": {
   "display_name": "Python 3 (ipykernel)",
   "language": "python",
   "name": "python3"
  },
  "language_info": {
   "codemirror_mode": {
    "name": "ipython",
    "version": 3
   },
   "file_extension": ".py",
   "mimetype": "text/x-python",
   "name": "python",
   "nbconvert_exporter": "python",
   "pygments_lexer": "ipython3",
   "version": "3.9.12"
  }
 },
 "nbformat": 4,
 "nbformat_minor": 5
}
